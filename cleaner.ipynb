{
 "cells": [
  {
   "cell_type": "code",
   "execution_count": 3,
   "metadata": {},
   "outputs": [],
   "source": [
    "import pandas as pd\n",
    "classified_file_path = \"all_expenses_classified.csv\"\n",
    "df_classified_data = pd.read_csv(classified_file_path, header=None, names=[\"date\", \"description\", \"debitamount\", \"creditamount\", \"category\"])"
   ]
  },
  {
   "cell_type": "code",
   "execution_count": 6,
   "metadata": {},
   "outputs": [
    {
     "name": "stdout",
     "output_type": "stream",
     "text": [
      "0      2020-01-01\n",
      "1      2020-01-01\n",
      "2      2020-01-01\n",
      "3      2020-01-01\n",
      "4      2020-01-01\n",
      "          ...    \n",
      "3672   2023-07-06\n",
      "3673   2023-07-06\n",
      "3674   2023-06-06\n",
      "3675   2023-05-06\n",
      "3676   2023-01-06\n",
      "Name: date, Length: 3677, dtype: datetime64[ns]\n"
     ]
    }
   ],
   "source": [
    "df_classified_data['date'] = pd.to_datetime(df_classified_data['date'], format='mixed')\n",
    "print(df_classified_data['date'])"
   ]
  },
  {
   "cell_type": "code",
   "execution_count": 7,
   "metadata": {},
   "outputs": [],
   "source": [
    "df_classified_data.to_csv(\"all_expenses_classified.csv\", index=False)"
   ]
  }
 ],
 "metadata": {
  "kernelspec": {
   "display_name": "Python 3",
   "language": "python",
   "name": "python3"
  },
  "language_info": {
   "codemirror_mode": {
    "name": "ipython",
    "version": 3
   },
   "file_extension": ".py",
   "mimetype": "text/x-python",
   "name": "python",
   "nbconvert_exporter": "python",
   "pygments_lexer": "ipython3",
   "version": "3.11.4"
  },
  "orig_nbformat": 4
 },
 "nbformat": 4,
 "nbformat_minor": 2
}
