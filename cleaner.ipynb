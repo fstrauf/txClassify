{
 "cells": [
  {
   "cell_type": "code",
   "execution_count": 3,
   "metadata": {},
   "outputs": [],
   "source": [
    "import pandas as pd\n",
    "classified_file_path = \"all_expenses_classified.csv\"\n",
    "df_classified_data = pd.read_csv(classified_file_path, header=None, names=[\"date\", \"description\", \"debitamount\", \"creditamount\", \"category\"])"
   ]
  },
  {
   "cell_type": "code",
   "execution_count": 1,
   "metadata": {},
   "outputs": [
    {
     "name": "stdout",
     "output_type": "stream",
     "text": [
      "['Hennes Mauritz NSW Sydney', 'Direct Debit Explore Develo ASFW', 'GOGET SYDNEY', 'Harris Farm Markets', 'International Transaction Fee', 'FORMFACADEBASIC WALNUT', 'HISTOPATH MACQUARIE PAR', 'PAYPAL AIRPORT', 'KOINLY GREATER LONDO GBR', 'THE TRINITY SYDNEY', 'THE REJECT SHOP BROOKVALE', 'Brazilian Flame Dee Dee Why', 'HAIR CUTTERS DEE WHY', 'CBA TRAVEL INSURANCE NORTH SYDNEY', 'POST WARRINGAH MALL BROOKVALE', 'WARRINGAH BROOKVALE', 'CRYPTOTAXCALCULATOR DEE WHY', 'Direct Debit Explore Develo AVAZKXA', 'Direct Debit Explore Develo AYBRP', 'MCDONALDSDXB AIRPORT DUBAI ARE AUD', 'International Transaction Fee', 'Direct Debit Explore Develo AZDDD', 'ADOBE CREATIVE CLOUD Sydney', 'KRSSHOPAUD SINGAPORE SGP AUD', 'Direct Debit Explore Develo AVSZV', 'GOOGLEGOOGLE STORAGE SYDNEY', 'APPLECOM Sydney', 'Direct Debit Explore Develo AVWSCW', 'Direct Debit Explore Develo ARLAXU', 'NOTION LABS INC SAN FRANCISCO', 'Direct Debit Explore Develo ACRZG', 'GOGET SYDNEY', 'Direct Debit Explore Develo AFRVBSC', 'gelato matteo Collaroy', 'SMPAdanos Barangaroo Barangaroo', 'KIDSTUFF WARRINGAH Brookvale', 'Direct Debit Explore Develo AHWDAU', 'MEDALDIMobile CHATSWOOD', 'Google Storage Barangaroo', 'VIVOBAREFOOT CHELTENHAM', 'MARRICKVILLE PORK Ultimo', 'Direct Debit Explore Develo ARSLMS', 'CENTRELINK NetBank BPAY', 'MEAT EMPORIUM SYDNEY', 'TAX OFFICE PAYMENTS CommBank app BPAY', 'Direct Debit Explore Develo AUNXDAXE', 'AND COFFEE SYDNEY', 'Direct Debit Explore Develo AVXUNW', 'SALEPEPE BROOKVALE BALGOWLAH', 'ALLIANCE OPCO MOSMAN', 'Direct Debit Explore Develo AXWWCBHF', 'Adobe Sydney', 'SYDNEY OPERA HOUSE TRU SYDNEY', 'PRP DIAGNSTIC IMAGING DEE WHY', 'Return Harris Farm Markets', 'Direct Debit Explore Develo AASB', 'CAFE PEPITA North Curl', 'NORTHERN BEACHES LIBRA DEE WHY', 'GOOGLEYOUTUBE SYDNEY', 'COTTON WARRINGAH', 'COTTON KIDS BROOKVALE', 'BWS LIQUOR NOWRA', 'EZICampco Property Tamarama', 'ALDI STORES NOWRA NOWRA', 'VITAMINS BROOKVAL BROOKVALE', 'THEICONIC SYDNEY', 'Direct Debit Explore Develo AASB', 'RESOURCES ULTIMO', 'OURCOW CASINO', 'Direct Debit Explore Develo AATSAD', 'SUSHI HUB WARRINGAH BROOKVALE', 'Kidstuff George Sydney', 'Iiko Mazesoba Sydney', 'HAVEN SPECIALTY Haymarket', 'REFLECTIONSSEALROCK SEAL ROCKS', 'Direct Debit Explore Develo AALZFH', 'Reflections Byron Bay BYRON BAY', 'The Newport Newport', 'DEVON CAFE BARANGARO BARANGAROO NSWAU', 'UBERCARSHARE SYDNEY', 'Transfer other Bank NetBank Dee Why Pde', 'MARK EDWARD RUFF FRENCHES FORE', 'Planet Mino Brookvale', 'Northern Beaches Libra Dee Why', 'POST DEE WHYRET DEE WHY', 'Direct Debit Explore Develo AACMNZF', 'WWWVIBERCOM LUXEMBOURG LUX', 'Direct Debit TPG Internet DNFKAARGHP', 'DEPT HOME AFFAIRS CommBank app BPAY', 'CAMPERVAN RENTAL SHOP DARLINGHURST', 'GOOGLEGOOGLE STORAGE Sydney', 'TREACHERY CAMP SEAL ROCKS', 'MAD MEX TUGGERAH TUGGERAH', 'COLES TUGGERAH', 'KMART TUGGERAH', 'COTTON MEGA FORSTER', 'MNJ FORSTER FORSTER', 'CRUISIN MOTORHOMES CARINGBAH', 'REFLECTIONSSCOTTSHEAD ADIN', 'DRUID ALCHEMY Gorokan', 'Transfer HAFSHEJANI PayID Phone from CommBank App Haircuts']\n"
     ]
    }
   ],
   "source": [
    "data = [\n",
    "    \"2545,Hennes Mauritz NSW Sydney,Shopping\",\n",
    "    \"2550,Direct Debit Explore Develo ASFW,Charlotte\",\n",
    "    \"2563,GOGET SYDNEY,Transport\",\n",
    "    \"2564,Harris Farm Markets,Groceries\",\n",
    "    \"2565,International Transaction Fee,Shopping\",\n",
    "    \"2566,FORMFACADEBASIC WALNUT,Shopping\",\n",
    "    \"2567,HISTOPATH MACQUARIE PAR,Travel\",\n",
    "    \"2570,PAYPAL AIRPORT,Transport\",\n",
    "    \"2576,KOINLY GREATER LONDO GBR,Utility\",\n",
    "    \"2590,THE TRINITY SYDNEY,DinnerBars\",\n",
    "    \"2598,THE REJECT SHOP BROOKVALE,Shopping\",\n",
    "    \"2600,Brazilian Flame Dee Dee Why,DinnerBars\",\n",
    "    \"2611,HAIR CUTTERS DEE WHY,Shopping\",\n",
    "    \"2612,CBA TRAVEL INSURANCE NORTH SYDNEY,Travel\",\n",
    "    \"2614,POST WARRINGAH MALL BROOKVALE,Shopping\",\n",
    "    \"2615,WARRINGAH BROOKVALE,Shopping\",\n",
    "    \"2623,CRYPTOTAXCALCULATOR DEE WHY,Utility\",\n",
    "    \"2626,Direct Debit Explore Develo AVAZKXA,Charlotte\",\n",
    "    \"2644,Direct Debit Explore Develo AYBRP,Charlotte\",\n",
    "    \"2657,MCDONALDSDXB AIRPORT DUBAI ARE AUD,DinnerBars\",\n",
    "    \"2661,International Transaction Fee,Utility\",\n",
    "    \"2662,Direct Debit Explore Develo AZDDD,Charlotte\",\n",
    "    \"2663,ADOBE CREATIVE CLOUD Sydney,Business\",\n",
    "    \"2672,KRSSHOPAUD SINGAPORE SGP AUD,Business\",\n",
    "    \"2715,Direct Debit Explore Develo AVSZV,Charlotte\",\n",
    "    \"2730,GOOGLEGOOGLE STORAGE SYDNEY,Business\",\n",
    "    \"2731,APPLECOM Sydney,Business\",\n",
    "    \"2749,Direct Debit Explore Develo AVWSCW,Charlotte\",\n",
    "    \"2781,Direct Debit Explore Develo ARLAXU,Charlotte\",\n",
    "    \"2787,NOTION LABS INC SAN FRANCISCO,Utility\",\n",
    "    \"2804,Direct Debit Explore Develo ACRZG,Charlotte\",\n",
    "    \"2806,GOGET SYDNEY,Business\",\n",
    "    \"2852,Direct Debit Explore Develo AFRVBSC,Charlotte\",\n",
    "    \"2860,gelato matteo Collaroy,DinnerBars\",\n",
    "    \"2874,SMPAdanos Barangaroo Barangaroo,Shopping\",\n",
    "    \"2885,KIDSTUFF WARRINGAH Brookvale,Shopping\",\n",
    "    \"2886,Direct Debit Explore Develo AHWDAU,Charlotte\",\n",
    "    \"2891,MEDALDIMobile CHATSWOOD,Business\",\n",
    "    \"2896,Google Storage Barangaroo,Business\",\n",
    "    \"2900,VIVOBAREFOOT CHELTENHAM,Shopping\",\n",
    "    \"2913,MARRICKVILLE PORK Ultimo,DinnerBars\",\n",
    "    \"2921,Direct Debit Explore Develo ARSLMS,Charlotte\",\n",
    "    \"2922,CENTRELINK NetBank BPAY,Utility\",\n",
    "    \"2926,MEAT EMPORIUM SYDNEY,Groceries\",\n",
    "    \"2933,TAX OFFICE PAYMENTS CommBank app BPAY,Utility\",\n",
    "    \"2949,Direct Debit Explore Develo AUNXDAXE,Charlotte\",\n",
    "    \"2957,AND COFFEE SYDNEY,DinnerBars\",\n",
    "    \"2964,Direct Debit Explore Develo AVXUNW,Charlotte\",\n",
    "    \"2969,SALEPEPE BROOKVALE BALGOWLAH,DinnerBars\",\n",
    "    \"2977,ALLIANCE OPCO MOSMAN,Shopping\",\n",
    "    \"2983,Direct Debit Explore Develo AXWWCBHF,Charlotte\",\n",
    "    \"2987,Adobe Sydney,Business\",\n",
    "    \"2990,SYDNEY OPERA HOUSE TRU SYDNEY,Shopping\",\n",
    "    \"3008,PRP DIAGNSTIC IMAGING DEE WHY,Medical\",\n",
    "    \"3010,Return Harris Farm Markets,Groceries\",\n",
    "    \"3016,Direct Debit Explore Develo AASB,Charlotte\",\n",
    "    \"3020,CAFE PEPITA North Curl,DinnerBars\",\n",
    "    \"3023,NORTHERN BEACHES LIBRA DEE WHY,Shopping\",\n",
    "    \"3032,GOOGLEYOUTUBE SYDNEY,Business\",\n",
    "    \"3036,COTTON WARRINGAH,Shopping\",\n",
    "    \"3042,COTTON KIDS BROOKVALE,Shopping\",\n",
    "    \"3043,BWS LIQUOR NOWRA,DinnerBars\",\n",
    "    \"3045,EZICampco Property Tamarama,Travel\",\n",
    "    \"3047,ALDI STORES NOWRA NOWRA,Groceries\",\n",
    "    \"3055,VITAMINS BROOKVAL BROOKVALE,Shopping\",\n",
    "    \"3058,THEICONIC SYDNEY,Shopping\",\n",
    "    \"3059,Direct Debit Explore Develo AASB,Charlotte\",\n",
    "    \"3061,RESOURCES ULTIMO,Shopping\",\n",
    "    \"3065,OURCOW CASINO,Groceries\",\n",
    "    \"3088,Direct Debit Explore Develo AATSAD,Charlotte\",\n",
    "    \"3096,SUSHI HUB WARRINGAH BROOKVALE,DinnerBars\",\n",
    "    \"3097,Kidstuff George Sydney,Shopping\",\n",
    "    \"3103,Iiko Mazesoba Sydney,DinnerBars\",\n",
    "    \"3108,HAVEN SPECIALTY Haymarket,Groceries\",\n",
    "    \"3124,REFLECTIONSSEALROCK SEAL ROCKS,Travel\",\n",
    "    \"3125,Direct Debit Explore Develo AALZFH,Charlotte\",\n",
    "    \"3136,Reflections Byron Bay BYRON BAY,Travel\",\n",
    "    \"3138,The Newport Newport,DinnerBars\",\n",
    "    \"3144,DEVON CAFE BARANGARO BARANGAROO NSWAU,DinnerBars\",\n",
    "    \"3153,UBERCARSHARE SYDNEY,Business\",\n",
    "    \"3157,Transfer other Bank NetBank Dee Why Pde,Living\",\n",
    "    \"3160,MARK EDWARD RUFF FRENCHES FORE,Medical\",\n",
    "    \"3161,Planet Mino Brookvale,Charlotte\",\n",
    "    \"3162,Northern Beaches Libra Dee Why,Shopping\",\n",
    "    \"3171,POST DEE WHYRET DEE WHY,Utility\",\n",
    "    \"3177,Direct Debit Explore Develo AACMNZF,Charlotte\",\n",
    "    \"3178,WWWVIBERCOM LUXEMBOURG LUX,Shopping\",\n",
    "    \"3181,Direct Debit TPG Internet DNFKAARGHP,Utility\",\n",
    "    \"3187,DEPT HOME AFFAIRS CommBank app BPAY,Utility\",\n",
    "    \"3192,CAMPERVAN RENTAL SHOP DARLINGHURST,Travel\",\n",
    "    \"3195,GOOGLEGOOGLE STORAGE Sydney,Business\",\n",
    "    \"3199,TREACHERY CAMP SEAL ROCKS,Travel\",\n",
    "    \"3213,MAD MEX TUGGERAH TUGGERAH,DinnerBars\",\n",
    "    \"3215,COLES TUGGERAH,Groceries\",\n",
    "    \"3220,KMART TUGGERAH,Shopping\",\n",
    "    \"3223,COTTON MEGA FORSTER,Shopping\",\n",
    "    \"3225,MNJ FORSTER FORSTER,Shopping\",\n",
    "    \"3227,CRUISIN MOTORHOMES CARINGBAH,Travel\",\n",
    "    \"3229,REFLECTIONSSCOTTSHEAD ADIN,Travel\",\n",
    "    \"3232,DRUID ALCHEMY Gorokan,Shopping\",\n",
    "    \"3237,Transfer HAFSHEJANI PayID Phone from CommBank App Haircuts,Shopping\"\n",
    "]\n",
    "\n",
    "# Split each row by commas, take the second element (index 1), and put it into a list\n",
    "sentences = [row.split(',')[1] for row in data]\n",
    "\n",
    "print(sentences)\n"
   ]
  },
  {
   "cell_type": "code",
   "execution_count": 6,
   "metadata": {},
   "outputs": [
    {
     "name": "stdout",
     "output_type": "stream",
     "text": [
      "0      2020-01-01\n",
      "1      2020-01-01\n",
      "2      2020-01-01\n",
      "3      2020-01-01\n",
      "4      2020-01-01\n",
      "          ...    \n",
      "3672   2023-07-06\n",
      "3673   2023-07-06\n",
      "3674   2023-06-06\n",
      "3675   2023-05-06\n",
      "3676   2023-01-06\n",
      "Name: date, Length: 3677, dtype: datetime64[ns]\n"
     ]
    }
   ],
   "source": [
    "df_classified_data['date'] = pd.to_datetime(df_classified_data['date'], format='mixed')\n",
    "print(df_classified_data['date'])"
   ]
  },
  {
   "cell_type": "code",
   "execution_count": 7,
   "metadata": {},
   "outputs": [],
   "source": [
    "df_classified_data.to_csv(\"all_expenses_classified.csv\", index=False)"
   ]
  }
 ],
 "metadata": {
  "kernelspec": {
   "display_name": "Python 3",
   "language": "python",
   "name": "python3"
  },
  "language_info": {
   "codemirror_mode": {
    "name": "ipython",
    "version": 3
   },
   "file_extension": ".py",
   "mimetype": "text/x-python",
   "name": "python",
   "nbconvert_exporter": "python",
   "pygments_lexer": "ipython3",
   "version": "3.11.4"
  },
  "orig_nbformat": 4
 },
 "nbformat": 4,
 "nbformat_minor": 2
}
